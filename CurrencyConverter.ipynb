{
  "nbformat": 4,
  "nbformat_minor": 0,
  "metadata": {
    "colab": {
      "provenance": [],
      "authorship_tag": "ABX9TyOWxpx0S39PmXY5k7Zm0x+o",
      "include_colab_link": true
    },
    "kernelspec": {
      "name": "python3",
      "display_name": "Python 3"
    },
    "language_info": {
      "name": "python"
    }
  },
  "cells": [
    {
      "cell_type": "markdown",
      "metadata": {
        "id": "view-in-github",
        "colab_type": "text"
      },
      "source": [
        "<a href=\"https://colab.research.google.com/github/BhagwatiOracle/Currency-Converter/blob/main/CurrencyConverter.ipynb\" target=\"_parent\"><img src=\"https://colab.research.google.com/assets/colab-badge.svg\" alt=\"Open In Colab\"/></a>"
      ]
    },
    {
      "cell_type": "code",
      "execution_count": null,
      "metadata": {
        "id": "bc15GZyn3eoa",
        "colab": {
          "base_uri": "https://localhost:8080/"
        },
        "outputId": "adbe556c-f14d-4246-889f-5eaa0c6afb93"
      },
      "outputs": [
        {
          "output_type": "stream",
          "name": "stdout",
          "text": [
            "\u001b[?25l   \u001b[90m━━━━━━━━━━━━━━━━━━━━━━━━━━━━━━━━━━━━━━━━\u001b[0m \u001b[32m0.0/62.8 kB\u001b[0m \u001b[31m?\u001b[0m eta \u001b[36m-:--:--\u001b[0m\r\u001b[2K   \u001b[90m━━━━━━━━━━━━━━━━━━━━━━━━━━━━━━━━━━━━━━━━\u001b[0m \u001b[32m62.8/62.8 kB\u001b[0m \u001b[31m1.8 MB/s\u001b[0m eta \u001b[36m0:00:00\u001b[0m\n",
            "\u001b[?25h\u001b[?25l   \u001b[90m━━━━━━━━━━━━━━━━━━━━━━━━━━━━━━━━━━━━━━━━\u001b[0m \u001b[32m0.0/437.7 kB\u001b[0m \u001b[31m?\u001b[0m eta \u001b[36m-:--:--\u001b[0m\r\u001b[2K   \u001b[90m━━━━━━━━━━━━━━━━━━━━━━━━━━━━━━━━━━━━━━━━\u001b[0m \u001b[32m437.7/437.7 kB\u001b[0m \u001b[31m12.9 MB/s\u001b[0m eta \u001b[36m0:00:00\u001b[0m\n",
            "\u001b[?25h\u001b[?25l   \u001b[90m━━━━━━━━━━━━━━━━━━━━━━━━━━━━━━━━━━━━━━━━\u001b[0m \u001b[32m0.0/1.2 MB\u001b[0m \u001b[31m?\u001b[0m eta \u001b[36m-:--:--\u001b[0m\r\u001b[2K   \u001b[91m━━━━━━━━━━━━━━━━━━━━━━━━━━━━━━━━━━━━━━━\u001b[0m\u001b[91m╸\u001b[0m \u001b[32m1.2/1.2 MB\u001b[0m \u001b[31m102.8 MB/s\u001b[0m eta \u001b[36m0:00:01\u001b[0m\r\u001b[2K   \u001b[90m━━━━━━━━━━━━━━━━━━━━━━━━━━━━━━━━━━━━━━━━\u001b[0m \u001b[32m1.2/1.2 MB\u001b[0m \u001b[31m19.5 MB/s\u001b[0m eta \u001b[36m0:00:00\u001b[0m\n",
            "\u001b[?25h"
          ]
        }
      ],
      "source": [
        "!pip install -q langchain-openai langchain-core requests\n",
        "import os\n",
        "os.environ[\"OPENAI_API_KEY\"] =''\n"
      ]
    },
    {
      "cell_type": "code",
      "source": [
        "from langchain_openai import ChatOpenAI\n",
        "from langchain_core.tools import tool\n",
        "from langchain_core.messages import HumanMessage\n",
        "import requests"
      ],
      "metadata": {
        "id": "7vXX3dK-mUmA"
      },
      "execution_count": null,
      "outputs": []
    },
    {
      "cell_type": "code",
      "source": [
        "from langchain_core.tools import InjectedToolArg\n",
        "from typing import Annotated\n",
        "@tool\n",
        "def get_conversion_factor(base_currency:str, target_currency: str)->float:\n",
        "  \"\"\"\n",
        "  This function fetches the currency conversion factor between a given base currency and a target currency\n",
        "\n",
        "  \"\"\"\n",
        "  url=f'https://v6.exchangerate-api.com/v6/b1f945310995e0574671b906/pair/{base_currency}/{target_currency}'\n",
        "\n",
        "  response = requests.get(url)\n",
        "\n",
        "  return response.json()\n",
        "\n",
        "\n",
        "@tool\n",
        "def convert(base_currency_value:int, conversion_rate: Annotated[float,InjectedToolArg])->float:\n",
        "  \"\"\"\n",
        "  given a currency conversion rate this function calculates the target currency value from a given base currency value\n",
        "  \"\"\"\n",
        "  return base_currency_value*conversion_rate"
      ],
      "metadata": {
        "id": "Kw_kziXbmBaV"
      },
      "execution_count": null,
      "outputs": []
    },
    {
      "cell_type": "code",
      "source": [
        "get_conversion_factor.invoke({'base_currency':'USD','target_currency':'INR'})"
      ],
      "metadata": {
        "colab": {
          "base_uri": "https://localhost:8080/"
        },
        "id": "aiykk-PZmT_d",
        "outputId": "301e5367-4f75-4035-9056-31d94aaa9a71"
      },
      "execution_count": null,
      "outputs": [
        {
          "output_type": "execute_result",
          "data": {
            "text/plain": [
              "{'result': 'success',\n",
              " 'documentation': 'https://www.exchangerate-api.com/docs',\n",
              " 'terms_of_use': 'https://www.exchangerate-api.com/terms',\n",
              " 'time_last_update_unix': 1746662402,\n",
              " 'time_last_update_utc': 'Thu, 08 May 2025 00:00:02 +0000',\n",
              " 'time_next_update_unix': 1746748802,\n",
              " 'time_next_update_utc': 'Fri, 09 May 2025 00:00:02 +0000',\n",
              " 'base_code': 'USD',\n",
              " 'target_code': 'INR',\n",
              " 'conversion_rate': 84.7697}"
            ]
          },
          "metadata": {},
          "execution_count": 4
        }
      ]
    },
    {
      "cell_type": "code",
      "source": [
        "convert.invoke({'base_currency_value':10, 'conversion_rate':85.76})"
      ],
      "metadata": {
        "colab": {
          "base_uri": "https://localhost:8080/"
        },
        "id": "IiJxJ0FmmHjv",
        "outputId": "4899db1f-06a2-4ad4-e6ae-3f838da50d60"
      },
      "execution_count": null,
      "outputs": [
        {
          "output_type": "execute_result",
          "data": {
            "text/plain": [
              "857.6"
            ]
          },
          "metadata": {},
          "execution_count": 5
        }
      ]
    },
    {
      "cell_type": "code",
      "source": [
        "\n",
        "\n",
        "llm = ChatOpenAI(model=\"Qwen/Qwen3-235B-A22B-fp8-tput\",\n",
        "    openai_api_base=\"https://api.together.xyz/v1\")"
      ],
      "metadata": {
        "id": "Yf3kuqpAn3bC"
      },
      "execution_count": null,
      "outputs": []
    },
    {
      "cell_type": "code",
      "source": [
        "llm_with_tools = llm.bind_tools([get_conversion_factor, convert])"
      ],
      "metadata": {
        "id": "ZY_W5BTfpoCk"
      },
      "execution_count": null,
      "outputs": []
    },
    {
      "cell_type": "code",
      "source": [
        "message=[HumanMessage('What is the conversion factor between USD and INR and based on that can you convert 10 usd to inr')]"
      ],
      "metadata": {
        "id": "zsmabFblpoFI"
      },
      "execution_count": null,
      "outputs": []
    },
    {
      "cell_type": "code",
      "source": [
        "ai_message=llm_with_tools.invoke(message)"
      ],
      "metadata": {
        "id": "xLU0RKKVpoIl"
      },
      "execution_count": null,
      "outputs": []
    },
    {
      "cell_type": "code",
      "source": [
        "ai_message.tool_calls\n"
      ],
      "metadata": {
        "colab": {
          "base_uri": "https://localhost:8080/"
        },
        "id": "vAn8lOg_rhfa",
        "outputId": "fd09170b-486e-4770-8145-fe0726876698"
      },
      "execution_count": null,
      "outputs": [
        {
          "output_type": "execute_result",
          "data": {
            "text/plain": [
              "[{'name': 'get_conversion_factor',\n",
              "  'args': {'base_currency': 'USD', 'target_currency': 'INR'},\n",
              "  'id': 'call_7xs81z824d2owddz07xqjc5q',\n",
              "  'type': 'tool_call'},\n",
              " {'name': 'convert',\n",
              "  'args': {'base_currency_value': 10},\n",
              "  'id': 'call_2827lr2ynmdvqrud9qkhp3sl',\n",
              "  'type': 'tool_call'}]"
            ]
          },
          "metadata": {},
          "execution_count": 23
        }
      ]
    },
    {
      "cell_type": "code",
      "source": [
        "message.append(ai_message)"
      ],
      "metadata": {
        "id": "HKrDdw2IzKIk"
      },
      "execution_count": null,
      "outputs": []
    },
    {
      "cell_type": "code",
      "source": [
        "import json\n",
        "for tool_call in ai_message.tool_calls:\n",
        "  if tool_call['name'] == 'get_conversion_factor':\n",
        "    tool_message1 = get_conversion_factor.invoke(tool_call)\n",
        "    print(tool_message1)\n",
        "\n",
        "    conversion_rate=json.loads(tool_message1.content)['conversion_rate']\n",
        "\n",
        "    message.append(tool_message1)\n",
        "\n",
        "  if tool_call['name'] == 'convert':\n",
        "    tool_call['args']['conversion_rate'] = conversion_rate\n",
        "    tool_message2 = convert.invoke(tool_call)\n",
        "    message.append(tool_message2)\n",
        "\n"
      ],
      "metadata": {
        "colab": {
          "base_uri": "https://localhost:8080/"
        },
        "id": "ZqOD1UTntmHj",
        "outputId": "e92bc329-5548-49c0-daa4-33c90dc89ced"
      },
      "execution_count": null,
      "outputs": [
        {
          "output_type": "stream",
          "name": "stdout",
          "text": [
            "content='{\"result\": \"success\", \"documentation\": \"https://www.exchangerate-api.com/docs\", \"terms_of_use\": \"https://www.exchangerate-api.com/terms\", \"time_last_update_unix\": 1746662402, \"time_last_update_utc\": \"Thu, 08 May 2025 00:00:02 +0000\", \"time_next_update_unix\": 1746748802, \"time_next_update_utc\": \"Fri, 09 May 2025 00:00:02 +0000\", \"base_code\": \"USD\", \"target_code\": \"INR\", \"conversion_rate\": 84.7697}' name='get_conversion_factor' tool_call_id='call_7xs81z824d2owddz07xqjc5q'\n"
          ]
        }
      ]
    },
    {
      "cell_type": "code",
      "source": [
        "message"
      ],
      "metadata": {
        "colab": {
          "base_uri": "https://localhost:8080/"
        },
        "id": "vrSCc46quFY2",
        "outputId": "89005061-3044-4620-9b7f-21569069adac"
      },
      "execution_count": null,
      "outputs": [
        {
          "output_type": "execute_result",
          "data": {
            "text/plain": [
              "[HumanMessage(content='What is the conversion factor between USD and INR and based on that can you convert 10 usd to inr', additional_kwargs={}, response_metadata={}),\n",
              " AIMessage(content='', additional_kwargs={'tool_calls': [{'id': 'call_7xs81z824d2owddz07xqjc5q', 'function': {'arguments': '{\"base_currency\":\"USD\",\"target_currency\":\"INR\"}', 'name': 'get_conversion_factor'}, 'type': 'function', 'index': 0}, {'id': 'call_2827lr2ynmdvqrud9qkhp3sl', 'function': {'arguments': '{\"base_currency_value\":10}', 'name': 'convert'}, 'type': 'function', 'index': 1}], 'refusal': None}, response_metadata={'token_usage': {'completion_tokens': 1252, 'prompt_tokens': 270, 'total_tokens': 1522, 'completion_tokens_details': None, 'prompt_tokens_details': None}, 'model_name': 'Qwen/Qwen3-235B-A22B-fp8-tput', 'system_fingerprint': None, 'id': 'ntCk95J-6UHjtw-93c818100b63dd1c', 'service_tier': None, 'finish_reason': 'tool_calls', 'logprobs': None}, id='run--349a449a-9ee8-43b9-8cb9-979ad8114849-0', tool_calls=[{'name': 'get_conversion_factor', 'args': {'base_currency': 'USD', 'target_currency': 'INR'}, 'id': 'call_7xs81z824d2owddz07xqjc5q', 'type': 'tool_call'}, {'name': 'convert', 'args': {'base_currency_value': 10, 'conversion_rate': 84.7697}, 'id': 'call_2827lr2ynmdvqrud9qkhp3sl', 'type': 'tool_call'}], usage_metadata={'input_tokens': 270, 'output_tokens': 1252, 'total_tokens': 1522, 'input_token_details': {}, 'output_token_details': {}}),\n",
              " ToolMessage(content='{\"result\": \"success\", \"documentation\": \"https://www.exchangerate-api.com/docs\", \"terms_of_use\": \"https://www.exchangerate-api.com/terms\", \"time_last_update_unix\": 1746662402, \"time_last_update_utc\": \"Thu, 08 May 2025 00:00:02 +0000\", \"time_next_update_unix\": 1746748802, \"time_next_update_utc\": \"Fri, 09 May 2025 00:00:02 +0000\", \"base_code\": \"USD\", \"target_code\": \"INR\", \"conversion_rate\": 84.7697}', name='get_conversion_factor', tool_call_id='call_7xs81z824d2owddz07xqjc5q'),\n",
              " ToolMessage(content='847.697', name='convert', tool_call_id='call_2827lr2ynmdvqrud9qkhp3sl')]"
            ]
          },
          "metadata": {},
          "execution_count": 27
        }
      ]
    },
    {
      "cell_type": "code",
      "source": [
        "llm_with_tools.invoke(message).content"
      ],
      "metadata": {
        "colab": {
          "base_uri": "https://localhost:8080/",
          "height": 122
        },
        "id": "6z4F1MVQVZB0",
        "outputId": "9f6bb8a6-e3a4-40c9-9bcb-427a1038b788"
      },
      "execution_count": null,
      "outputs": [
        {
          "output_type": "execute_result",
          "data": {
            "text/plain": [
              "\"<think>\\nOkay, let's see. The user asked for the conversion factor between USD and INR and then wanted to convert 10 USD to INR.\\n\\nFirst, I need to call the get_conversion_factor function with base_currency as USD and target_currency as INR. The response from that gives the conversion rate, which is 84.7697. \\n\\nThen, using that conversion rate, I call the convert function with the base_currency_value of 10. Multiplying 10 by 84.7697 gives 847.697. \\n\\nSo, the final answer should present the conversion factor and the converted amount. I should format it clearly, maybe stating the factor first and then the converted value. Also, include the sources and terms as per the tool's response. Let me check if all the parameters are correctly used and if there's any missing info. Everything seems in order. Alright, time to put it all together in a user-friendly way.\\n</think>\\n\\nThe conversion factor between USD and INR is **84.7697** (as of May 8, 2025, 00:00 UTC).  \\n\\nUsing this rate, **10 USD** equals **847.697 INR**.  \\n\\nSources:  \\n- [Exchange Rate API Documentation](https://www.exchangerate-api.com/docs)  \\n- [Terms of Use](https://www.exchangerate-api.com/terms)  \\n\\nLet me know if you need further assistance!\""
            ],
            "application/vnd.google.colaboratory.intrinsic+json": {
              "type": "string"
            }
          },
          "metadata": {},
          "execution_count": 29
        }
      ]
    },
    {
      "cell_type": "code",
      "source": [],
      "metadata": {
        "id": "lxLtvgalVZGm"
      },
      "execution_count": null,
      "outputs": []
    },
    {
      "cell_type": "code",
      "source": [],
      "metadata": {
        "id": "9N1xz7FUVZJA"
      },
      "execution_count": null,
      "outputs": []
    },
    {
      "cell_type": "code",
      "source": [],
      "metadata": {
        "id": "8zUz0k_XVZLg"
      },
      "execution_count": null,
      "outputs": []
    },
    {
      "cell_type": "code",
      "source": [],
      "metadata": {
        "id": "wyWfowVnVZO2"
      },
      "execution_count": null,
      "outputs": []
    }
  ]
}